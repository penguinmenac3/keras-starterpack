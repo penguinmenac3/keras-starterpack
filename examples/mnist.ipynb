{
 "cells": [
  {
   "cell_type": "markdown",
   "metadata": {
    "collapsed": true
   },
   "source": [
    "# A simple MNIST example with keras\n",
    "\n",
    "This tutorial at first assumes you already have some net that is good for the task and you only want to feed it your data and train it.\n",
    "\n",
    "There are further examples in the examples folder as python code.\n",
    "Just dig arround a bit.\n",
    "The examples should be nicely documented.\n",
    "\n",
    "## Load the data\n",
    "\n",
    "For loading the data we simply include the mnist classification dataset loader.\n",
    "The data should be stored in the data/mnist folder, to keep stuff clean.\n",
    "We can select if the training or the test data should be loaded.\n",
    "In this case we want to load both.\n",
    "We need also data to validate our model.\n",
    "\n",
    "The prepare_data method is a method that converts the input images/data into the format the network needs.\n",
    "For now we will simply use the mnist cnn prepare_data method provided by the framework."
   ]
  },
  {
   "cell_type": "code",
   "execution_count": null,
   "metadata": {},
   "outputs": [],
   "source": [
    "from datasets.classification.mnist import mnist\n",
    "from models.mnist_cnn import prepare_data\n",
    "\n",
    "images, labels = mnist(\"data/mnist\", \"train\", prepare_data)\n",
    "test_images, test_labels = mnist(\"data/mnist\", \"test\", prepare_data)\n",
    "\n",
    "print(\"Training Images: %d\" % len(images))\n",
    "print(\"Test Images: %d\" % len(test_images))"
   ]
  },
  {
   "cell_type": "markdown",
   "metadata": {},
   "source": [
    "## Creating the model\n",
    "\n",
    "Next stop we will create an mnist model.\n",
    "\n",
    "We will use a predefined model for mnist for now.\n",
    "Since the framework provides one.\n",
    "\n",
    "We want to plot the model."
   ]
  },
  {
   "cell_type": "code",
   "execution_count": null,
   "metadata": {},
   "outputs": [],
   "source": [
    "from models.mnist_cnn import mnist_toy_net\n",
    "from keras.utils import plot_model\n",
    "\n",
    "print(\"\\nCreating Model: mnist_toy_net\")\n",
    "model = mnist_toy_net()\n",
    "plot_model(model, show_shapes=True)\n"
   ]
  },
  {
   "cell_type": "markdown",
   "metadata": {},
   "source": [
    "## Adding an optimizer and loss\n",
    "\n",
    "In keras adding a loss and an optimizer is done with the two lines below.\n",
    "Create the optimizer and then compile the model with a loss and an optimizer"
   ]
  },
  {
   "cell_type": "code",
   "execution_count": null,
   "metadata": {},
   "outputs": [],
   "source": [
    "from keras.optimizers import SGD\n",
    "\n",
    "print(\"\\nCreate SGD Optimizer\")\n",
    "sgd = SGD(lr=0.001, decay=1e-6, momentum=0.9, nesterov=True)\n",
    "model.compile(optimizer=sgd, loss='categorical_crossentropy', metrics=[\"accuracy\"])"
   ]
  },
  {
   "cell_type": "markdown",
   "metadata": {},
   "source": [
    "## Training\n",
    "\n",
    "To train the model simply fit it to the data."
   ]
  },
  {
   "cell_type": "code",
   "execution_count": null,
   "metadata": {},
   "outputs": [],
   "source": [
    "print(\"\\nFit model...\")\n",
    "model.fit(x=images, y=labels, batch_size=128, epochs=200, validation_data=(test_images, test_labels))"
   ]
  },
  {
   "cell_type": "markdown",
   "metadata": {},
   "source": [
    "## Save the model for deploying\n",
    "\n",
    "After training it is important to save the model definition and weights in a file for later usage.\n",
    "A pro tipp is to save the model using a timestamp, so you do not overwrite it when testing out multiple configurations."
   ]
  },
  {
   "cell_type": "code",
   "execution_count": null,
   "metadata": {},
   "outputs": [],
   "source": [
    "import time\n",
    "import datetime\n",
    "time_str = datetime.datetime.fromtimestamp(time.time()).strftime('%Y-%m-%d_%H.%M.%S')\n",
    "\n",
    "model_json = model.to_json()\n",
    "with open(\"models/weights/mnist_toy_net_%s.json\" % time_str, \"w\") as json_file:\n",
    "    json_file.write(model_json)\n",
    "model.save_weights(\"models/weights/mnist_toy_net_%s.h5\" % time_str)"
   ]
  },
  {
   "cell_type": "markdown",
   "metadata": {},
   "source": [
    "## Load a model for prediction\n",
    "\n",
    "A model can be simply loaded for prediction by providing a weights_path to the constructor.\n",
    "You can then predict your images by using the model.predict function.\n",
    "After compiling the model with a loss again."
   ]
  },
  {
   "cell_type": "code",
   "execution_count": null,
   "metadata": {},
   "outputs": [],
   "source": [
    "import numpy as np\n",
    "\n",
    "# load trained model\n",
    "model = mnist_toy_net(weights_path=\"models/weights/mnist_toy_net_2018-01-09_20.04.47.h5\")\n",
    "\n",
    "# Compile model\n",
    "sgd = SGD(lr=0.001, decay=1e-6, momentum=0.9, nesterov=True)\n",
    "model.compile(optimizer=sgd, loss='categorical_crossentropy', metrics=[\"accuracy\"])\n",
    "\n",
    "# Predict\n",
    "classes = np.argmax(model.predict(test_images), axis=1)\n",
    "print(classes)"
   ]
  },
  {
   "cell_type": "markdown",
   "metadata": {},
   "source": [
    "## Hungry for more?\n",
    "\n",
    "Have a look at the mnist.py example, which is largely similar to this tutorial but adds a hook for loss plots to the training process.\n",
    "\n",
    "There is also the tinypersonnet.py which trains a network on a dataset saved in named folders. The tinypersonnet_eval.py evaluates/deploys that network.\n",
    "\n",
    "Also currently under development is the lfw.py example for labeled faces in the wild.\n",
    "Basically there are examples for every implemented dataset that can be read."
   ]
  },
  {
   "cell_type": "code",
   "execution_count": null,
   "metadata": {},
   "outputs": [],
   "source": []
  }
 ],
 "metadata": {
  "kernelspec": {
   "display_name": "Python 2",
   "language": "python",
   "name": "python2"
  },
  "language_info": {
   "codemirror_mode": {
    "name": "ipython",
    "version": 2
   },
   "file_extension": ".py",
   "mimetype": "text/x-python",
   "name": "python",
   "nbconvert_exporter": "python",
   "pygments_lexer": "ipython2",
   "version": "2.7.6"
  }
 },
 "nbformat": 4,
 "nbformat_minor": 0
}
